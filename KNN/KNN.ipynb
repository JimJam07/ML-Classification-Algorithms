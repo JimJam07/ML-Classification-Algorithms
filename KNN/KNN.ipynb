{
 "cells": [
  {
   "cell_type": "code",
   "execution_count": 18,
   "id": "cc87f731",
   "metadata": {},
   "outputs": [],
   "source": [
    "import numpy as np\n",
    "import pandas as pd\n",
    "from sklearn.model_selection import train_test_split\n",
    "from sklearn.metrics import accuracy_score\n",
    "from collections import Counter"
   ]
  },
  {
   "cell_type": "code",
   "execution_count": 2,
   "id": "3c18710f",
   "metadata": {},
   "outputs": [],
   "source": [
    "raw_data = pd.read_csv(\"../IRIS.csv\")\n",
    "#extracting unique species\n",
    "types = pd.unique(raw_data[\"species\"])\n",
    "\n",
    "idx = [i for i in range(len(types))]\n",
    "data = raw_data.copy()\n",
    "data[\"species\"].replace(types,idx,inplace=True)"
   ]
  },
  {
   "cell_type": "code",
   "execution_count": 3,
   "id": "0d05b14e",
   "metadata": {},
   "outputs": [],
   "source": [
    "X = data.iloc[:,:-1].values\n",
    "Y = data.iloc[:,-1].values\n",
    "X_train, X_test, Y_train, Y_test = train_test_split(X,Y, test_size=20, random_state=31)"
   ]
  },
  {
   "cell_type": "code",
   "execution_count": 19,
   "id": "7d2663dc",
   "metadata": {},
   "outputs": [],
   "source": [
    "class KNearest():\n",
    "    def __init__(self, k=3):\n",
    "        self.k = k\n",
    "        self.x_train = None\n",
    "        self.y_train = None\n",
    "    \n",
    "    def L2_Norm(self, x1, x2):\n",
    "        \"\"\"\n",
    "        A function to calculate L2 norm, euclidean distance,between 2 vectors x1&x2\n",
    "        \"\"\"\n",
    "        return np.sqrt(np.sum(x1-x2) ** 2)\n",
    "        \n",
    "    def fit(self,X,Y):\n",
    "        self.x_train = X\n",
    "        self.y_train = Y\n",
    "    \n",
    "    def predict(self,X):\n",
    "        pred = [self._predict(x) for x in X]\n",
    "        return pred\n",
    "    \n",
    "    def _predict(self, x):\n",
    "        dist = np.array([self.L2_Norm(x,x__) for x__ in self.x_train])\n",
    "        # finding the K nearest data points\n",
    "        near_idxs = np.argsort(dist)[:self.k]\n",
    "        # extracting the most common labels present in the K nearest Neighbours\n",
    "        labels = [self.y_train[i] for i in near_idxs]\n",
    "        common = Counter(labels).most_common()\n",
    "        \n",
    "        return common[0][0]"
   ]
  },
  {
   "cell_type": "code",
   "execution_count": 44,
   "id": "a444b954",
   "metadata": {},
   "outputs": [],
   "source": [
    "KNN = KNearest(k=4)\n",
    "KNN.fit(X_train,Y_train)"
   ]
  },
  {
   "cell_type": "code",
   "execution_count": 45,
   "id": "d6be3e90",
   "metadata": {},
   "outputs": [],
   "source": [
    "lables_test = KNN.predict(X_test)\n",
    "lables_train = KNN.predict(X_train)"
   ]
  },
  {
   "cell_type": "code",
   "execution_count": 46,
   "id": "7fc18cb4",
   "metadata": {},
   "outputs": [],
   "source": [
    "test_acc = accuracy_score(lables_test, Y_test)\n",
    "train_acc = accuracy_score(lables_train, Y_train)"
   ]
  },
  {
   "cell_type": "code",
   "execution_count": 47,
   "id": "59d2a219",
   "metadata": {},
   "outputs": [
    {
     "name": "stdout",
     "output_type": "stream",
     "text": [
      "The Training accuracy is 96.92\n",
      "The Testing accuracy is 75.00\n"
     ]
    }
   ],
   "source": [
    "print(f\"The Training accuracy is {train_acc*100:0.2f}\")\n",
    "print(f\"The Testing accuracy is {test_acc*100:0.2f}\")"
   ]
  }
 ],
 "metadata": {
  "kernelspec": {
   "display_name": "Python 3 (ipykernel)",
   "language": "python",
   "name": "python3"
  },
  "language_info": {
   "codemirror_mode": {
    "name": "ipython",
    "version": 3
   },
   "file_extension": ".py",
   "mimetype": "text/x-python",
   "name": "python",
   "nbconvert_exporter": "python",
   "pygments_lexer": "ipython3",
   "version": "3.11.5"
  }
 },
 "nbformat": 4,
 "nbformat_minor": 5
}
