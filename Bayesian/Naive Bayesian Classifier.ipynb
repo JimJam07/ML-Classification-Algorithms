{
 "cells": [
  {
   "cell_type": "code",
   "execution_count": 1,
   "id": "35e5f6d1",
   "metadata": {},
   "outputs": [],
   "source": [
    "import numpy as np\n",
    "import pandas as pd\n",
    "from sklearn.model_selection import train_test_split\n",
    "from sklearn.metrics import accuracy_score"
   ]
  },
  {
   "cell_type": "code",
   "execution_count": 2,
   "id": "01e2ecd1",
   "metadata": {},
   "outputs": [],
   "source": [
    "raw_data = pd.read_csv(\"../IRIS.csv\")\n",
    "#extracting unique species\n",
    "types = pd.unique(raw_data[\"species\"])\n",
    "\n",
    "idx = [i for i in range(len(types))]\n",
    "data = raw_data.copy()\n",
    "data[\"species\"].replace(types,idx,inplace=True)"
   ]
  },
  {
   "cell_type": "code",
   "execution_count": 3,
   "id": "ab59df84",
   "metadata": {},
   "outputs": [],
   "source": [
    "X = data.iloc[:,:-1].values\n",
    "Y = data.iloc[:,-1].values\n",
    "X_train, X_test, Y_train, Y_test = train_test_split(X,Y, test_size=20, random_state=31)"
   ]
  },
  {
   "cell_type": "code",
   "execution_count": 4,
   "id": "4e354200",
   "metadata": {},
   "outputs": [],
   "source": [
    "class GaussianBayes():\n",
    "    '''\n",
    "        This class performs the Gaussian Naive Bayesian classifier, by finding the Priors, \n",
    "        and using the Gaussian distribution to find the likelihood probability\n",
    "    '''\n",
    "    def __init__(self):\n",
    "        self.n_classes = None\n",
    "        self.classes = None\n",
    "        self.mean = None\n",
    "        self.varience = None\n",
    "        self.priors = None\n",
    "        \n",
    "    def fit(self,X,Y):\n",
    "        n_samples, n_features = X.shape\n",
    "        self.classes = np.unique(Y)\n",
    "        self.n_classes = len(self.classes)\n",
    "        # for the Gaussian Naive Bayesian\n",
    "        self.mean = np.zeros((self.n_classes, n_features), dtype=np.float64)\n",
    "        self.varience = np.zeros((self.n_classes, n_features), dtype=np.float64)\n",
    "        self.priors = np.zeros(self.n_classes, dtype=np.float64)\n",
    "        \n",
    "        for idx, clas in enumerate(self.classes):\n",
    "            Xc = X[Y==clas]\n",
    "            self.mean[idx,:] = Xc.mean(axis=0)\n",
    "            self.varience[idx,:] = Xc.var(axis=0)\n",
    "            self.priors[idx] = Xc.shape[0] / float(n_samples)\n",
    "        \n",
    "    def predict(self, X):\n",
    "        pred = [self._pred_(x) for x in X]\n",
    "        return pred\n",
    "    \n",
    "    def _pred_(self,x):\n",
    "        post = [] # aray of probabilities\n",
    "        for idx, clas in enumerate(self.classes):\n",
    "            prior = np.log(self.priors[idx])\n",
    "            pos = np.sum(np.log(self.Gaussian(idx, x)))\n",
    "            pos = pos + prior\n",
    "            post.append(pos)\n",
    "        return self.classes[np.argmax(post)]\n",
    "    \n",
    "    def Gaussian(self, idx, x):\n",
    "        mean = self.mean[idx]\n",
    "        var = self.varience[idx]\n",
    "        numerator = np.exp(-((x - mean) ** 2) / (2 * var))\n",
    "        denominator = np.sqrt(2 * np.pi * var)\n",
    "        prob = numerator / denominator\n",
    "        return prob"
   ]
  },
  {
   "cell_type": "code",
   "execution_count": 5,
   "id": "9845c784",
   "metadata": {},
   "outputs": [],
   "source": [
    "Classifier = GaussianBayes()\n",
    "Classifier.fit(X_train,Y_train)"
   ]
  },
  {
   "cell_type": "code",
   "execution_count": 6,
   "id": "ef1f2923",
   "metadata": {},
   "outputs": [],
   "source": [
    "lables_test = Classifier.predict(X_test)\n",
    "lables_train = Classifier.predict(X_train)"
   ]
  },
  {
   "cell_type": "code",
   "execution_count": 7,
   "id": "a1062e7b",
   "metadata": {},
   "outputs": [],
   "source": [
    "test_acc = accuracy_score(lables_test, Y_test)\n",
    "train_acc = accuracy_score(lables_train, Y_train)"
   ]
  },
  {
   "cell_type": "code",
   "execution_count": 8,
   "id": "7996c7d1",
   "metadata": {},
   "outputs": [
    {
     "name": "stdout",
     "output_type": "stream",
     "text": [
      "The Training accuracy is 95.38\n",
      "The Testing accuracy is 100.00\n"
     ]
    }
   ],
   "source": [
    "print(f\"The Training accuracy is {train_acc*100:0.2f}\")\n",
    "print(f\"The Testing accuracy is {test_acc*100:0.2f}\")"
   ]
  }
 ],
 "metadata": {
  "kernelspec": {
   "display_name": "Python 3 (ipykernel)",
   "language": "python",
   "name": "python3"
  },
  "language_info": {
   "codemirror_mode": {
    "name": "ipython",
    "version": 3
   },
   "file_extension": ".py",
   "mimetype": "text/x-python",
   "name": "python",
   "nbconvert_exporter": "python",
   "pygments_lexer": "ipython3",
   "version": "3.11.5"
  }
 },
 "nbformat": 4,
 "nbformat_minor": 5
}
