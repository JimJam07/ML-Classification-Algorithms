{
 "cells": [
  {
   "cell_type": "code",
   "execution_count": 1,
   "id": "7477b5fa",
   "metadata": {},
   "outputs": [],
   "source": [
    "import numpy as np\n",
    "import pandas as pd\n",
    "from sklearn.model_selection import train_test_split\n",
    "from sklearn.metrics import accuracy_score\n",
    "from collections import Counter"
   ]
  },
  {
   "cell_type": "code",
   "execution_count": 2,
   "id": "db0ab81a",
   "metadata": {},
   "outputs": [],
   "source": [
    "# getting the class from the Tree file\n",
    "%run Tree.ipynb"
   ]
  },
  {
   "cell_type": "code",
   "execution_count": 3,
   "id": "f3a2090d",
   "metadata": {},
   "outputs": [],
   "source": [
    "raw_data = pd.read_csv(\"../IRIS.csv\")\n",
    "#extracting unique species\n",
    "types = pd.unique(raw_data[\"species\"])\n",
    "\n",
    "idx = [i for i in range(len(types))]\n",
    "data = raw_data.copy()\n",
    "data[\"species\"].replace(types,idx,inplace=True)"
   ]
  },
  {
   "cell_type": "code",
   "execution_count": 4,
   "id": "a1ed55ff",
   "metadata": {},
   "outputs": [],
   "source": [
    "X = data.iloc[:,:-1].values\n",
    "Y = data.iloc[:,-1].values.reshape(-1,1)\n",
    "X_train, X_test, Y_train, Y_test = train_test_split(X,Y, test_size=10, random_state=31)"
   ]
  },
  {
   "cell_type": "markdown",
   "id": "dd9f0a8b",
   "metadata": {},
   "source": [
    "## The Random Forest Class"
   ]
  },
  {
   "cell_type": "code",
   "execution_count": 13,
   "id": "1cd631e9",
   "metadata": {},
   "outputs": [],
   "source": [
    "class RandomForest():\n",
    "    def __init__(self, n_features=None, n_trees=10, max_depth=3, min_split_sample=2, gain_fn=\"gini\"):\n",
    "        self.n_trees = n_trees\n",
    "        self.max_depth = max_depth\n",
    "        self.min_split_sample = min_split_sample\n",
    "        self.n_features = n_features\n",
    "        self.gain_fn = gain_fn\n",
    "        self.forest=[]\n",
    "        \n",
    "    def _create_forest(self,X,Y):\n",
    "        \n",
    "        for _ in range(self.n_trees):\n",
    "            print(_)\n",
    "            Classifier = Decision_tree(max_depth=self.max_depth, min_sample_split=self.min_split_sample, \n",
    "                                       gain_fn=self.gain_fn,n_features=self.n_features)\n",
    "            sampled_X, sampled_Y = self.bootstrap(X,Y)\n",
    "            print(sampled_X.shape)\n",
    "            Classifier.fit(sampled_X, sampled_Y)\n",
    "            self.forest.append(Classifier)\n",
    "            \n",
    "    \n",
    "    def bootstrap(self, X, Y):\n",
    "        \n",
    "        n_samples = X.shape[0]\n",
    "        choosen_idx = np.random.choice(n_samples, n_samples, replace=True)\n",
    "        return X[choosen_idx], Y[choosen_idx]\n",
    "        \n",
    "    def fit(self, X, Y):\n",
    "        self._create_forest(X,Y)\n",
    "        \n",
    "    def most_common_label(self, pred):\n",
    "        counter = Counter(pred)\n",
    "        return counter.most_common(1)[0][0]\n",
    "    \n",
    "    def predict(self, X, tree_pred=False):\n",
    "        \n",
    "        pred = np.array([tree.predict(X) for tree in self.forest])\n",
    "        tree_preds = np.swapaxes(pred, 0, 1)\n",
    "        pred = np.array([self.most_common_label(pred) for pred in tree_preds])\n",
    "        \n",
    "        return pred\n",
    "    \n",
    "        \n",
    "        "
   ]
  },
  {
   "cell_type": "code",
   "execution_count": 14,
   "id": "3a226f41",
   "metadata": {},
   "outputs": [
    {
     "name": "stdout",
     "output_type": "stream",
     "text": [
      "0\n",
      "(140, 4)\n",
      "1\n",
      "(140, 4)\n",
      "2\n",
      "(140, 4)\n"
     ]
    }
   ],
   "source": [
    "forest = RandomForest(n_trees=3)\n",
    "forest.fit(X_train,Y_train)"
   ]
  },
  {
   "cell_type": "code",
   "execution_count": 15,
   "id": "458fdb0e",
   "metadata": {},
   "outputs": [],
   "source": [
    "lables_test = forest.predict(X_test)\n",
    "lables_train = forest.predict(X_train)"
   ]
  },
  {
   "cell_type": "code",
   "execution_count": 17,
   "id": "75ee104d",
   "metadata": {},
   "outputs": [
    {
     "name": "stdout",
     "output_type": "stream",
     "text": [
      "The Training accuracy is 88.57\n",
      "The Testing accuracy is 80.00\n"
     ]
    }
   ],
   "source": [
    "test_acc = accuracy_score(lables_test, Y_test)\n",
    "train_acc = accuracy_score(lables_train, Y_train)\n",
    "\n",
    "print(f\"The Training accuracy is {train_acc*100:0.2f}\")\n",
    "print(f\"The Testing accuracy is {test_acc*100:0.2f}\")"
   ]
  }
 ],
 "metadata": {
  "kernelspec": {
   "display_name": "Python 3 (ipykernel)",
   "language": "python",
   "name": "python3"
  },
  "language_info": {
   "codemirror_mode": {
    "name": "ipython",
    "version": 3
   },
   "file_extension": ".py",
   "mimetype": "text/x-python",
   "name": "python",
   "nbconvert_exporter": "python",
   "pygments_lexer": "ipython3",
   "version": "3.11.5"
  }
 },
 "nbformat": 4,
 "nbformat_minor": 5
}
