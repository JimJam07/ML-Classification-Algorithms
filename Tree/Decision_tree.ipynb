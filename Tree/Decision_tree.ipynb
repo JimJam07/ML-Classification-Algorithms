{
 "cells": [
  {
   "cell_type": "markdown",
   "id": "98ccdd99",
   "metadata": {},
   "source": [
    "# Simple Decsion tree Algorithm"
   ]
  },
  {
   "cell_type": "code",
   "execution_count": 1,
   "id": "1260fa97",
   "metadata": {},
   "outputs": [],
   "source": [
    "import numpy as np\n",
    "import pandas as pd\n",
    "from sklearn.model_selection import train_test_split\n",
    "from sklearn.metrics import accuracy_score"
   ]
  },
  {
   "cell_type": "markdown",
   "id": "3152a199",
   "metadata": {},
   "source": [
    "## Preprocessing raw data\n",
    "\n",
    "Converting categorical data into processible labels"
   ]
  },
  {
   "cell_type": "code",
   "execution_count": 2,
   "id": "df6313e4",
   "metadata": {},
   "outputs": [],
   "source": [
    "raw_data = pd.read_csv(\"../IRIS.csv\")\n",
    "#extracting unique species\n",
    "types = pd.unique(raw_data[\"species\"])\n",
    "\n",
    "idx = [i for i in range(len(types))]\n",
    "data = raw_data.copy()\n",
    "data[\"species\"].replace(types,idx,inplace=True)"
   ]
  },
  {
   "cell_type": "code",
   "execution_count": 3,
   "id": "b7a6e54f",
   "metadata": {},
   "outputs": [],
   "source": [
    "X = data.iloc[:,:-1].values\n",
    "Y = data.iloc[:,-1].values.reshape(-1,1)\n",
    "X_train, X_test, Y_train, Y_test = train_test_split(X,Y, test_size=10, random_state=31)"
   ]
  },
  {
   "cell_type": "markdown",
   "id": "7d4d250c",
   "metadata": {},
   "source": [
    "## Formulating the tree"
   ]
  },
  {
   "cell_type": "code",
   "execution_count": 4,
   "id": "a2bdca8d",
   "metadata": {},
   "outputs": [],
   "source": [
    "# getting the class from the Tree file\n",
    "%run Tree.ipynb"
   ]
  },
  {
   "cell_type": "markdown",
   "id": "71735cb1",
   "metadata": {},
   "source": [
    "### Using Gini impurity gain as a metric to split the tree"
   ]
  },
  {
   "cell_type": "code",
   "execution_count": 5,
   "id": "a667013e",
   "metadata": {},
   "outputs": [],
   "source": [
    "Classifier = Decision_tree(gain_fn=\"gini\")\n",
    "\n",
    "Classifier.fit(X_train,Y_train)"
   ]
  },
  {
   "cell_type": "code",
   "execution_count": 6,
   "id": "3d9e9655",
   "metadata": {},
   "outputs": [],
   "source": [
    "lables_test = Classifier.predict(X_test)\n",
    "lables_train = Classifier.predict(X_train)\n"
   ]
  },
  {
   "cell_type": "code",
   "execution_count": 7,
   "id": "4b0eeff8",
   "metadata": {},
   "outputs": [],
   "source": [
    "test_acc = accuracy_score(lables_test, Y_test)\n",
    "train_acc = accuracy_score(lables_train, Y_train)"
   ]
  },
  {
   "cell_type": "code",
   "execution_count": 8,
   "id": "a8eee73a",
   "metadata": {},
   "outputs": [
    {
     "name": "stdout",
     "output_type": "stream",
     "text": [
      "The Training accuracy is 93.57\n",
      "The Testing accuracy is 100.00\n"
     ]
    }
   ],
   "source": [
    "print(f\"The Training accuracy is {train_acc*100:0.2f}\")\n",
    "print(f\"The Testing accuracy is {test_acc*100:0.2f}\")"
   ]
  },
  {
   "cell_type": "code",
   "execution_count": 9,
   "id": "f4e053d6",
   "metadata": {},
   "outputs": [
    {
     "name": "stdout",
     "output_type": "stream",
     "text": [
      "X_3 <= 0.2 ? 0.17542957709846851\n",
      " left:X_3 <= 0.1 ? 0.4458728701152942\n",
      "  left:X_2 <= 1.4 ? 0.9444444444444442\n",
      "    left:0.0\n",
      "    right:X_1 <= 3.1 ? 0.75\n",
      "        left:0.0\n",
      "        right:0.0\n",
      "  right:X_2 <= 1.4 ? 0.27950376098524243\n",
      "    left:X_2 <= 1.3 ? 0.46938775510204134\n",
      "        left:0.0\n",
      "        right:0.0\n",
      "    right:X_2 <= 1.5 ? 0.5094392786700477\n",
      "        left:0.0\n",
      "        right:0.0\n",
      " right:X_3 <= 1.4 ? 0.11987240361046103\n",
      "  left:X_3 <= 1.1 ? 0.25150569803373557\n",
      "    left:X_3 <= 0.5 ? 0.4008420690840344\n",
      "        left:0.0\n",
      "        right:1.0\n",
      "    right:X_3 <= 1.3 ? 0.4739583333333335\n",
      "        left:1.0\n",
      "        right:1.0\n",
      "  right:X_3 <= 1.5 ? 0.21160482374768064\n",
      "    left:X_2 <= 4.5 ? 0.4336088154269977\n",
      "        left:1.0\n",
      "        right:1.0\n",
      "    right:X_3 <= 1.8 ? 0.20932760859445848\n",
      "        left:2.0\n",
      "        right:2.0\n"
     ]
    }
   ],
   "source": [
    "Classifier.print_tree()"
   ]
  },
  {
   "cell_type": "markdown",
   "id": "fda87da3",
   "metadata": {},
   "source": [
    "### Using Entropy Gain"
   ]
  },
  {
   "cell_type": "code",
   "execution_count": 10,
   "id": "9b4cfded",
   "metadata": {},
   "outputs": [],
   "source": [
    "Classifier = Decision_tree(gain_fn=\"entropy\")\n",
    "\n",
    "Classifier.fit(X_train,Y_train)"
   ]
  },
  {
   "cell_type": "code",
   "execution_count": 11,
   "id": "3738dc9f",
   "metadata": {},
   "outputs": [],
   "source": [
    "lables_test = Classifier.predict(X_test)\n",
    "lables_train = Classifier.predict(X_train)\n"
   ]
  },
  {
   "cell_type": "code",
   "execution_count": 12,
   "id": "5a033ef8",
   "metadata": {},
   "outputs": [],
   "source": [
    "test_acc = accuracy_score(lables_test, Y_test)\n",
    "train_acc = accuracy_score(lables_train, Y_train)"
   ]
  },
  {
   "cell_type": "code",
   "execution_count": 13,
   "id": "0b745443",
   "metadata": {},
   "outputs": [
    {
     "name": "stdout",
     "output_type": "stream",
     "text": [
      "The Training accuracy is 89.29\n",
      "The Testing accuracy is 90.00\n"
     ]
    }
   ],
   "source": [
    "print(f\"The Training accuracy is {train_acc*100:0.2f}\")\n",
    "print(f\"The Testing accuracy is {test_acc*100:0.2f}\")"
   ]
  },
  {
   "cell_type": "code",
   "execution_count": 14,
   "id": "e61316a0",
   "metadata": {},
   "outputs": [
    {
     "name": "stdout",
     "output_type": "stream",
     "text": [
      "X_3 <= 1.4 ? 1.5525131068893803\n",
      " left:X_0 <= 5.4 ? 1.987146206821123\n",
      "  left:X_0 <= 5.0 ? 1.926042000260539\n",
      "    left:X_3 <= 0.2 ? 1.9685237402075284\n",
      "        left:0.0\n",
      "        right:0.0\n",
      "    right:X_0 <= 5.1 ? 2.315564461388103\n",
      "        left:0.0\n",
      "        right:0.0\n",
      "  right:X_0 <= 6.0 ? 2.424527211838951\n",
      "    left:X_0 <= 5.6 ? 2.228360167337563\n",
      "        left:1.0\n",
      "        right:1.0\n",
      "    right:X_2 <= 4.6 ? 2.479457963159728\n",
      "        left:1.0\n",
      "        right:1.0\n",
      " right:X_3 <= 1.9 ? 1.824767195803405\n",
      "  left:X_3 <= 1.7 ? 1.9554082595466227\n",
      "    left:X_2 <= 4.5 ? 2.0900046626864217\n",
      "        left:1.0\n",
      "        right:1.0\n",
      "    right:X_1 <= 2.8 ? 2.7179798019964982\n",
      "        left:2.0\n",
      "        right:2.0\n",
      "  right:X_3 <= 2.2 ? 1.9401234907690803\n",
      "    left:X_3 <= 2.0 ? 2.328311731083785\n",
      "        left:2.0\n",
      "        right:2.0\n",
      "    right:X_3 <= 2.3 ? 3.0298491511253314\n",
      "        left:2.0\n",
      "        right:2.0\n"
     ]
    }
   ],
   "source": [
    "Classifier.print_tree()"
   ]
  },
  {
   "cell_type": "markdown",
   "id": "5ddfef1f",
   "metadata": {},
   "source": [
    "**Gini impurity** is a much better metric for splitting the tree than **Entropy Gain**"
   ]
  }
 ],
 "metadata": {
  "kernelspec": {
   "display_name": "Python 3 (ipykernel)",
   "language": "python",
   "name": "python3"
  },
  "language_info": {
   "codemirror_mode": {
    "name": "ipython",
    "version": 3
   },
   "file_extension": ".py",
   "mimetype": "text/x-python",
   "name": "python",
   "nbconvert_exporter": "python",
   "pygments_lexer": "ipython3",
   "version": "3.11.5"
  }
 },
 "nbformat": 4,
 "nbformat_minor": 5
}
